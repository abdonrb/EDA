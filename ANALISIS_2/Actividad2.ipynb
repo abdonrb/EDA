{
 "cells": [
  {
   "cell_type": "code",
   "execution_count": 34,
   "metadata": {},
   "outputs": [],
   "source": [
    "import numpy as np\n",
    "import pandas as pd\n",
    "import matplotlib.pyplot as plt\n",
    "import seaborn as sns\n",
    "import datetime"
   ]
  },
  {
   "cell_type": "code",
   "execution_count": 35,
   "metadata": {},
   "outputs": [],
   "source": [
    "#  Creando dataFrames de CSV a analizar\n",
    "actividad_diaria = pd.read_csv('dailyActivity_merged.csv')\n",
    "calorias_diarias = pd.read_csv('dailyCalories_merged.csv')\n",
    "pasos_diarios = pd.read_csv('dailySteps_merged.csv')\n",
    "sleep_day = pd.read_csv('sleepDay_merged.csv')\n",
    "peso = pd.read_csv('weightLoginfo_merged.csv')"
   ]
  },
  {
   "cell_type": "code",
   "execution_count": 36,
   "metadata": {},
   "outputs": [],
   "source": [
    "# Transformando a horas el tiempo de sueño\n",
    "sleep_day['hours_sleep'] = round((sleep_day['TotalTimeInBed'] / 60),2) "
   ]
  },
  {
   "cell_type": "code",
   "execution_count": 37,
   "metadata": {},
   "outputs": [],
   "source": [
    "# Renombrando la columna de la fecha para posteriormente hacer merged\n",
    "sleep_day.rename(columns={'SleepDay':'ActivityDate'}, inplace=True)"
   ]
  },
  {
   "cell_type": "code",
   "execution_count": 38,
   "metadata": {},
   "outputs": [],
   "source": [
    "# Hay 3 filas duplicadas, las eliminamos \n",
    "sleep_day = sleep_day.drop_duplicates()"
   ]
  },
  {
   "cell_type": "code",
   "execution_count": 39,
   "metadata": {},
   "outputs": [],
   "source": [
    "# Columnas mas relevantes\n",
    "# actividad_diaria3 = actividad_diaria[['Id','TotalSteps','TotalDistance','VeryActiveDistance','LightActiveDistance','SedentaryActiveDistance','Calories']]"
   ]
  },
  {
   "cell_type": "code",
   "execution_count": 40,
   "metadata": {},
   "outputs": [],
   "source": [
    "# Transformando en DateTime la fecha\n",
    "actividad_diaria['ActivityDate'] = pd.to_datetime(actividad_diaria['ActivityDate'])"
   ]
  },
  {
   "cell_type": "code",
   "execution_count": 41,
   "metadata": {},
   "outputs": [
    {
     "name": "stderr",
     "output_type": "stream",
     "text": [
      "C:\\Users\\Abdon.RAMIREZ-BRICEN\\AppData\\Local\\Temp\\ipykernel_42404\\187503775.py:2: UserWarning: Could not infer format, so each element will be parsed individually, falling back to `dateutil`. To ensure parsing is consistent and as-expected, please specify a format.\n",
      "  sleep_day['ActivityDate'] =  pd.to_datetime(sleep_day['ActivityDate'])\n"
     ]
    }
   ],
   "source": [
    "# Transformando en DateTime la fecha\n",
    "sleep_day['ActivityDate'] =  pd.to_datetime(sleep_day['ActivityDate'])"
   ]
  },
  {
   "cell_type": "code",
   "execution_count": 42,
   "metadata": {},
   "outputs": [],
   "source": [
    "# Agregando al DataFrame principal la columna de Horas de sueño\n",
    "activity = pd.merge(actividad_diaria,sleep_day[['Id','ActivityDate','hours_sleep']],on=['Id','ActivityDate'],how='left')"
   ]
  },
  {
   "cell_type": "code",
   "execution_count": 43,
   "metadata": {},
   "outputs": [],
   "source": [
    "# Elimianndo filas duplicadas\n",
    "activity = activity.drop_duplicates()"
   ]
  },
  {
   "cell_type": "code",
   "execution_count": 44,
   "metadata": {},
   "outputs": [],
   "source": [
    "# Guardamos en csv el DataFrame actualizado\n",
    "activity.to_csv('activity_users.csv')"
   ]
  },
  {
   "cell_type": "code",
   "execution_count": 62,
   "metadata": {},
   "outputs": [
    {
     "name": "stdout",
     "output_type": "stream",
     "text": [
      "             Id ActivityDate  hours_sleep  count\n",
      "0    1503960366   2016-04-12         5.77      1\n",
      "1    1503960366   2016-04-13         6.78      1\n",
      "2    1503960366   2016-04-15         7.37      1\n",
      "3    1503960366   2016-04-16         6.12      1\n",
      "4    1503960366   2016-04-17        11.87      1\n",
      "..          ...          ...          ...    ...\n",
      "405  8792009665   2016-04-30         6.00      1\n",
      "406  8792009665   2016-05-01         8.78      1\n",
      "407  8792009665   2016-05-02         7.05      1\n",
      "408  8792009665   2016-05-03         9.08      1\n",
      "409  8792009665   2016-05-04         7.72      1\n",
      "\n",
      "[410 rows x 4 columns]\n"
     ]
    }
   ],
   "source": [
    "result = activity.groupby(['Id', 'ActivityDate'])['hours_sleep'].value_counts().reset_index(name='count')\n",
    "print(result)\n"
   ]
  }
 ],
 "metadata": {
  "kernelspec": {
   "display_name": "Python 3",
   "language": "python",
   "name": "python3"
  },
  "language_info": {
   "codemirror_mode": {
    "name": "ipython",
    "version": 3
   },
   "file_extension": ".py",
   "mimetype": "text/x-python",
   "name": "python",
   "nbconvert_exporter": "python",
   "pygments_lexer": "ipython3",
   "version": "3.12.6"
  }
 },
 "nbformat": 4,
 "nbformat_minor": 2
}
